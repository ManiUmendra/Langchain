{
 "cells": [
  {
   "cell_type": "code",
   "execution_count": null,
   "metadata": {},
   "outputs": [],
   "source": [
    "from langchain_ollama import ChatOllama,OllamaEmbeddings\n",
    "from langchain_ollama.embeddings import OllamaEmbeddings\n",
    "from langchain_core.prompts import ChatPromptTemplate\n",
    "from langchain_text_splitters import RecursiveCharacterTextSplitter\n",
    "from langchain_community.vectorstores import FAISS\n",
    "from langchain_core.prompts import ChatPromptTemplate\n",
    "from langchain.schema.output_parser import StrOutputParser\n",
    "from langchain_core.runnables import RunnablePassthrough\n",
    "from langchain.load import dumps, loads"
   ]
  },
  {
   "cell_type": "code",
   "execution_count": 2,
   "metadata": {},
   "outputs": [],
   "source": [
    "from langchain_community.document_loaders import TextLoader\n",
    "\n",
    "text_loader = TextLoader('science.txt')\n",
    "text = text_loader.load()"
   ]
  },
  {
   "cell_type": "code",
   "execution_count": 3,
   "metadata": {},
   "outputs": [],
   "source": [
    "splitter = RecursiveCharacterTextSplitter(chunk_size=500,chunk_overlap=100)\n",
    "docs = splitter.split_documents(text)"
   ]
  },
  {
   "cell_type": "code",
   "execution_count": 6,
   "metadata": {},
   "outputs": [],
   "source": [
    "embed_model = OllamaEmbeddings(model='llama3.2')\n",
    "\n",
    "vector = FAISS.from_documents(documents=docs,embedding=embed_model)\n",
    "vector.save_local('RAGfusion')\n",
    "\n",
    "# new_vector=FAISS.load_local(\"faiss_index\",embeddings=embed_model,allow_dangerous_deserialization=True)"
   ]
  },
  {
   "cell_type": "code",
   "execution_count": 115,
   "metadata": {},
   "outputs": [],
   "source": [
    "new_vector=FAISS.load_local(\"RAGfusion\",embeddings=embed_model,allow_dangerous_deserialization=True).as_retriever()\n",
    "question = 'Tell me about three major branches of modern science.'\n",
    "# embed = embed_model.embed_query(question)\n",
    "# new_vector.similarity_search(question)\n"
   ]
  },
  {
   "cell_type": "code",
   "execution_count": 116,
   "metadata": {},
   "outputs": [
    {
     "data": {
      "text/plain": [
       "[Document(metadata={'source': 'science.txt'}, page_content='policies that seek to influence the scientific enterprise by prioritizing the ethical and moral development of commercial products, armaments, health care, public infrastructure, and environmental protection.'),\n",
       " Document(metadata={'source': 'science.txt'}, page_content='whether the formal sciences are scientific disciplines,[8][9][10] as they do not rely on empirical evidence.[11][9] Applied sciences are disciplines that use scientific knowledge for practical purposes, such as in engineering and medicine.[12][13][14]'),\n",
       " Document(metadata={'source': 'science.txt'}, page_content='and societies;[4][5] and the formal sciences (e.g., logic, mathematics, and theoretical computer science), which study formal systems, governed by axioms and rules.[6][7] There is disagreement whether the formal sciences are scientific disciplines,[8][9][10] as they do not rely on empirical evidence.[11][9] Applied sciences are disciplines that use scientific knowledge for practical purposes, such as in engineering and medicine.[12][13][14]'),\n",
       " Document(metadata={'source': 'science.txt'}, page_content='the Third Dynasty of Ur.[52][54] They seem to have studied scientific subjects which had practical or religious applications and had little interest in satisfying curiosity.')]"
      ]
     },
     "execution_count": 116,
     "metadata": {},
     "output_type": "execute_result"
    }
   ],
   "source": [
    "new_vector.invoke(question)"
   ]
  },
  {
   "cell_type": "code",
   "execution_count": 64,
   "metadata": {},
   "outputs": [],
   "source": [
    "prompt = ChatPromptTemplate.from_messages([\n",
    "    ('system','You are a helpful assistant that generate multiple queries based on a single input query.'),\n",
    "    ('user','Generate multiple search queries related to : {question} \\n OUTPUT (4 queries)')\n",
    "])\n",
    "\n",
    "generate_query = prompt | ChatOllama(model='llama3.2') | StrOutputParser() | (lambda x: x.split('\\n'))"
   ]
  },
  {
   "cell_type": "code",
   "execution_count": 148,
   "metadata": {},
   "outputs": [],
   "source": []
  },
  {
   "cell_type": "code",
   "execution_count": 58,
   "metadata": {},
   "outputs": [],
   "source": [
    "ragfusion_chain = generate_query | new_vector.map()"
   ]
  },
  {
   "cell_type": "code",
   "execution_count": 65,
   "metadata": {},
   "outputs": [],
   "source": [
    "# value =ragfusion_chain.invoke({'question':'what are modern science?'})\n",
    "value = generate_query.invoke({'question':'what are modern science?'})"
   ]
  },
  {
   "cell_type": "code",
   "execution_count": 56,
   "metadata": {},
   "outputs": [
    {
     "data": {
      "text/plain": [
       "ChatPromptTemplate(input_variables=['question'], messages=[SystemMessagePromptTemplate(prompt=PromptTemplate(input_variables=[], template='You are a helpful assistant that generate multiple queries based on a single input query.')), HumanMessagePromptTemplate(prompt=PromptTemplate(input_variables=['question'], template='Generate multiple search queries related to : {question} \\n OUTPUT (4 queries)'))])\n",
       "| ChatOllama(model='llama3.2')\n",
       "| StrOutputParser()\n",
       "| RunnableLambda(lambda x: x.split('\\n'))\n",
       "| RunnableEach(bound=VectorStoreRetriever(tags=['FAISS', 'OllamaEmbeddings'], vectorstore=<langchain_community.vectorstores.faiss.FAISS object at 0x000002C29107E9C0>))\n",
       "| RunnableLambda(summarize)"
      ]
     },
     "execution_count": 56,
     "metadata": {},
     "output_type": "execute_result"
    }
   ],
   "source": [
    "ragfusion_chain"
   ]
  },
  {
   "cell_type": "code",
   "execution_count": 66,
   "metadata": {},
   "outputs": [
    {
     "data": {
      "text/plain": [
       "['Here are four different search queries related to \"Modern Science\":',\n",
       " '',\n",
       " '1. **\"Emerging trends in scientific research 2023\"**',\n",
       " '',\n",
       " 'This query can help you find information on the latest advancements and breakthroughs in various fields of science, such as physics, biology, chemistry, and more.',\n",
       " '',\n",
       " '2. **\"Science in modern society impact\"**',\n",
       " '',\n",
       " 'This query can lead you to articles and resources that explore how scientific discoveries and technologies are shaping our daily lives, from medicine and technology to environment and sustainability.',\n",
       " '',\n",
       " '3. **\"Contemporary scientific theories and models\"**',\n",
       " '',\n",
       " 'This query can help you discover the latest scientific theories and models that explain various phenomena in the natural world, such as climate change, evolution, and particle physics.',\n",
       " '',\n",
       " '4. **\"Applications of modern science in innovation\"**',\n",
       " '',\n",
       " 'This query can guide you to information on how scientists are using modern science to develop new technologies, products, and solutions that improve our lives, from clean energy and medicine to space exploration and artificial intelligence.']"
      ]
     },
     "execution_count": 66,
     "metadata": {},
     "output_type": "execute_result"
    }
   ],
   "source": [
    "value"
   ]
  },
  {
   "cell_type": "code",
   "execution_count": 112,
   "metadata": {},
   "outputs": [],
   "source": [
    "template = \"\"\"You are a helpful assistant that generates multiple search queries based on a single input query. \\n\n",
    "Generate multiple search queries related to: {question} \\n\n",
    "Output (4 queries):\"\"\"\n",
    "prompt_rag_fusion = ChatPromptTemplate.from_template(template)\n",
    "\n",
    "\n",
    "from langchain import hub\n",
    "\n",
    "prompt = hub.pull(\"langchain-ai/rag-fusion-query-generation\")\n",
    "\n",
    "\n",
    "generate_queries = (\n",
    "    prompt\n",
    "    | ChatOllama(model='llama3.2')\n",
    "    | StrOutputParser() \n",
    "    | (lambda x: x.split(\"\\n\"))\n",
    ")\n",
    "\n",
    "## Chain for extracting relevant documents\n",
    "\n"
   ]
  },
  {
   "cell_type": "code",
   "execution_count": 122,
   "metadata": {},
   "outputs": [],
   "source": [
    "val = generate_queries.invoke({'original_query':'about modern science'})\n",
    "# generate_queries.invoke({'original_query':'modern science?'})"
   ]
  },
  {
   "cell_type": "code",
   "execution_count": 124,
   "metadata": {},
   "outputs": [
    {
     "data": {
      "text/plain": [
       "['Here are four search queries related to \"modern science\":',\n",
       " '',\n",
       " '1. **\"Recent breakthroughs in renewable energy\"** - This query could help you find updates on innovative technologies and advancements in the field of renewable energy.',\n",
       " '2. **\"The impact of CRISPR gene editing on modern biology\"** - This query could lead you to articles and research papers discussing the current state of CRISPR technology and its applications in various fields of biology.',\n",
       " '3. **\"The latest findings in quantum computing and artificial intelligence\"** - This query could help you find news and updates on the rapid progress being made in the field of quantum computing and its potential applications in AI.',\n",
       " '4. **\"The science behind modern biotechnology and regenerative medicine\"** - This query could lead you to articles and research papers discussing the current state of biotechnology and regenerative medicine, including recent advancements and potential breakthroughs.',\n",
       " '',\n",
       " 'I hope these search queries are helpful! Let me know if you need more assistance.']"
      ]
     },
     "execution_count": 124,
     "metadata": {},
     "output_type": "execute_result"
    }
   ],
   "source": [
    "val"
   ]
  },
  {
   "cell_type": "code",
   "execution_count": 129,
   "metadata": {},
   "outputs": [],
   "source": [
    "\n",
    "value = generate_queries.invoke({'original_query':'what are modern science?'})\n",
    "# generate_queries.invoke({'original_query':'modern science?'})"
   ]
  },
  {
   "cell_type": "code",
   "execution_count": 132,
   "metadata": {},
   "outputs": [],
   "source": [
    "value[1] = 'what are modern science?'"
   ]
  },
  {
   "cell_type": "code",
   "execution_count": 142,
   "metadata": {},
   "outputs": [
    {
     "name": "stdout",
     "output_type": "stream",
     "text": [
      "what are modern science?\n",
      "1. **\"What is the definition of modern science?\"**\n",
      "2. **\"How has modern science evolved from traditional scientific methods?\"**\n",
      "3. **\"What are the key principles and methodologies of modern science?\"**\n",
      "4. **\"Compare the differences between ancient and modern scientific approaches.\"**\n"
     ]
    }
   ],
   "source": [
    "dic_que_res = {}\n",
    "ls = []\n",
    "for index in range(1,6):\n",
    "    print(value[index])\n",
    "    response = new_vector.get_relevant_documents(value[index])\n",
    "    ls.append(response)\n",
    "    dic_que_res[value[index]] = response"
   ]
  },
  {
   "cell_type": "code",
   "execution_count": 186,
   "metadata": {},
   "outputs": [],
   "source": [
    "def reciprocal_rank_fusion(results: list[list],k=60):\n",
    "    scores = {}\n",
    "    for docs in results:\n",
    "        for rank, doc in enumerate(docs):\n",
    "            doc_str = dumps(doc)\n",
    "            if doc_str not in scores:\n",
    "                scores[doc_str] = 0\n",
    "            previous_score = scores[doc_str]\n",
    "            scores[doc_str] += 1 / (rank + k)\n",
    "    reranked_results = [\n",
    "        (loads(doc))#, score)\n",
    "        for doc, score in sorted(scores.items(), key=lambda x: x[1], reverse=True)\n",
    "    ]\n",
    "    return reranked_results"
   ]
  },
  {
   "cell_type": "code",
   "execution_count": 187,
   "metadata": {},
   "outputs": [],
   "source": [
    "ranked_data =reciprocal_rank_fusion(ls)\n",
    "retriever = vector.as_retriever()"
   ]
  },
  {
   "cell_type": "code",
   "execution_count": 214,
   "metadata": {},
   "outputs": [],
   "source": [
    "template = \"\"\"Answer the question based only on the following context:\n",
    "{context}\n",
    "\n",
    "Question: {question}\n",
    "\"\"\"\n",
    "prompt = ChatPromptTemplate.from_template(template=template)\n",
    "\n",
    "full_rag_fusion_chain = (\n",
    "    {\n",
    "        'context':retriever,\n",
    "        'question':RunnablePassthrough()\n",
    "    }\n",
    "    | prompt\n",
    "    | ChatOllama(model='llama3.2')\n",
    "    | StrOutputParser()\n",
    ")"
   ]
  },
  {
   "cell_type": "code",
   "execution_count": 207,
   "metadata": {},
   "outputs": [
    {
     "data": {
      "text/plain": [
       "{\n",
       "  context: VectorStoreRetriever(tags=['FAISS', 'OllamaEmbeddings'], vectorstore=<langchain_community.vectorstores.faiss.FAISS object at 0x000002C293E395B0>),\n",
       "  question: RunnablePassthrough()\n",
       "}\n",
       "| ChatPromptTemplate(input_variables=['context', 'question'], messages=[HumanMessagePromptTemplate(prompt=PromptTemplate(input_variables=['context', 'question'], template='Answer the question based only on the following context:\\n{context}\\n\\nQuestion: {question}\\n'))])\n",
       "| ChatOllama(model='llama3.2')"
      ]
     },
     "execution_count": 207,
     "metadata": {},
     "output_type": "execute_result"
    }
   ],
   "source": [
    "full_rag_fusion_chain"
   ]
  },
  {
   "cell_type": "code",
   "execution_count": 166,
   "metadata": {},
   "outputs": [],
   "source": [
    "vector=FAISS.from_documents(embedding=embed_model,documents=ranked_data)"
   ]
  },
  {
   "cell_type": "code",
   "execution_count": 170,
   "metadata": {},
   "outputs": [],
   "source": [
    "retriever = vector.as_retriever()"
   ]
  },
  {
   "cell_type": "code",
   "execution_count": 189,
   "metadata": {},
   "outputs": [
    {
     "data": {
      "text/plain": [
       "[Document(metadata={'source': 'science.txt'}, page_content='role in knowledge creation and it was not until the 19th century that many of the institutional and professional features of science began to take shape,[26][27] along with the changing of \"natural philosophy\" to \"natural science\".[28]'),\n",
       " Document(metadata={'source': 'science.txt'}, page_content='past that resemble modern science in some but not all features;[43][44][45] however, this label has also been criticized as denigrating,[46] or too suggestive of presentism, thinking about those activities only in relation to modern categories.[47]'),\n",
       " Document(metadata={'source': 'science.txt'}, page_content='whether the formal sciences are scientific disciplines,[8][9][10] as they do not rely on empirical evidence.[11][9] Applied sciences are disciplines that use scientific knowledge for practical purposes, such as in engineering and medicine.[12][13][14]'),\n",
       " Document(metadata={'source': 'science.txt'}, page_content='policies that seek to influence the scientific enterprise by prioritizing the ethical and moral development of commercial products, armaments, health care, public infrastructure, and environmental protection.'),\n",
       " Document(metadata={'source': 'science.txt'}, page_content='and Mesopotamians made contributions that would later find a place in Greek and medieval science: mathematics, astronomy, and medicine.[48][15]:â€Š12â€Š From the 3rd millennium BCE, the ancient Egyptians developed a decimal numbering system,[49] solved practical problems using geometry,[50] and developed a calendar.[51] Their healing therapies involved drug treatments and the supernatural, such as prayers, incantations, and rituals.[15]:â€Š9â€Š')]"
      ]
     },
     "execution_count": 189,
     "metadata": {},
     "output_type": "execute_result"
    }
   ],
   "source": [
    "ranked_data"
   ]
  },
  {
   "cell_type": "code",
   "execution_count": 212,
   "metadata": {},
   "outputs": [
    {
     "data": {
      "text/plain": [
       "'The context does not explicitly define what \"modern science\" is. However, it mentions that some aspects of past activities resemble modern science in some but not all features. Additionally, it notes that the institutional and professional features of science began to take shape in the 19th century, which suggests that modern science may refer to the developments and practices that emerged during this time period.'"
      ]
     },
     "execution_count": 212,
     "metadata": {},
     "output_type": "execute_result"
    }
   ],
   "source": [
    "full_rag_fusion_chain.invoke('what are modern science?')"
   ]
  },
  {
   "cell_type": "code",
   "execution_count": 176,
   "metadata": {},
   "outputs": [
    {
     "data": {
      "text/plain": [
       "RunnableParallel<context,question>Input(__root__=None)"
      ]
     },
     "execution_count": 176,
     "metadata": {},
     "output_type": "execute_result"
    }
   ],
   "source": [
    "full_rag_fusion_chain.input_schema()"
   ]
  },
  {
   "cell_type": "code",
   "execution_count": null,
   "metadata": {},
   "outputs": [],
   "source": []
  }
 ],
 "metadata": {
  "kernelspec": {
   "display_name": "venv",
   "language": "python",
   "name": "python3"
  },
  "language_info": {
   "codemirror_mode": {
    "name": "ipython",
    "version": 3
   },
   "file_extension": ".py",
   "mimetype": "text/x-python",
   "name": "python",
   "nbconvert_exporter": "python",
   "pygments_lexer": "ipython3",
   "version": "3.12.0"
  }
 },
 "nbformat": 4,
 "nbformat_minor": 2
}
